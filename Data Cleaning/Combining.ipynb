{
 "cells": [
  {
   "cell_type": "code",
   "execution_count": 1,
   "metadata": {},
   "outputs": [],
   "source": [
    "import pandas as pd\n",
    "\n",
    "# Step 1: Read the datasets\n",
    "df_sa = pd.read_csv('SA Data Set/Final_SA.csv')\n",
    "df_qld = pd.read_csv('QLD Data Set/Final_QLD.csv')\n",
    "df_nsw = pd.read_csv('NSW Data Set/Final_NSW.csv')\n",
    "df_wa = pd.read_csv('WA Data Set/Final_WA.csv')\n",
    "df_vic = pd.read_csv('VIC Data Set/Final_VIC.csv')\n",
    "\n",
    "# Step 2: Standardize the column names (make all lowercase, remove spaces, and use underscores)\n",
    "def standardize_columns(df):\n",
    "    df.columns = df.columns.str.lower().str.replace(' ', '_')\n",
    "    return df\n",
    "\n",
    "df_sa = standardize_columns(df_sa)\n",
    "df_qld = standardize_columns(df_qld)\n",
    "df_nsw = standardize_columns(df_nsw)\n",
    "df_wa = standardize_columns(df_wa)\n",
    "df_vic = standardize_columns(df_vic)\n",
    "\n",
    "# Step 3: Combine the datasets\n",
    "combined_df = pd.concat([df_sa, df_qld, df_nsw, df_wa, df_vic], ignore_index=True)"
   ]
  },
  {
   "cell_type": "code",
   "execution_count": 2,
   "metadata": {},
   "outputs": [
    {
     "data": {
      "text/plain": [
       "(49384, 17)"
      ]
     },
     "execution_count": 2,
     "metadata": {},
     "output_type": "execute_result"
    }
   ],
   "source": [
    "df_sa.shape"
   ]
  },
  {
   "cell_type": "code",
   "execution_count": 3,
   "metadata": {},
   "outputs": [
    {
     "data": {
      "text/plain": [
       "(51518, 16)"
      ]
     },
     "execution_count": 3,
     "metadata": {},
     "output_type": "execute_result"
    }
   ],
   "source": [
    "df_qld.shape"
   ]
  },
  {
   "cell_type": "code",
   "execution_count": 4,
   "metadata": {},
   "outputs": [
    {
     "data": {
      "text/plain": [
       "(73608, 16)"
      ]
     },
     "execution_count": 4,
     "metadata": {},
     "output_type": "execute_result"
    }
   ],
   "source": [
    "df_nsw.shape"
   ]
  },
  {
   "cell_type": "code",
   "execution_count": 5,
   "metadata": {},
   "outputs": [
    {
     "data": {
      "text/plain": [
       "(101166, 16)"
      ]
     },
     "execution_count": 5,
     "metadata": {},
     "output_type": "execute_result"
    }
   ],
   "source": [
    "df_wa.shape"
   ]
  },
  {
   "cell_type": "code",
   "execution_count": 6,
   "metadata": {},
   "outputs": [
    {
     "data": {
      "text/plain": [
       "(46706, 16)"
      ]
     },
     "execution_count": 6,
     "metadata": {},
     "output_type": "execute_result"
    }
   ],
   "source": [
    "df_vic.shape"
   ]
  },
  {
   "cell_type": "code",
   "execution_count": 7,
   "metadata": {},
   "outputs": [],
   "source": [
    "combined_df = combined_df.drop(columns=['geometry'])\n"
   ]
  },
  {
   "cell_type": "code",
   "execution_count": 8,
   "metadata": {},
   "outputs": [
    {
     "name": "stdout",
     "output_type": "stream",
     "text": [
      "<class 'pandas.core.frame.DataFrame'>\n",
      "RangeIndex: 322382 entries, 0 to 322381\n",
      "Data columns (total 16 columns):\n",
      " #   Column         Non-Null Count   Dtype  \n",
      "---  ------         --------------   -----  \n",
      " 0   report_id      322382 non-null  object \n",
      " 1   year           322382 non-null  int64  \n",
      " 2   month          322382 non-null  object \n",
      " 3   day            322382 non-null  object \n",
      " 4   time           322382 non-null  object \n",
      " 5   state          322382 non-null  object \n",
      " 6   stats_area     322382 non-null  object \n",
      " 7   lga            322382 non-null  object \n",
      " 8   latitude       322382 non-null  float64\n",
      " 9   longitude      322382 non-null  float64\n",
      " 10  loc_type       322382 non-null  object \n",
      " 11  light_cond     322382 non-null  object \n",
      " 12  weather_cond   322382 non-null  object \n",
      " 13  speed_limit    322382 non-null  float64\n",
      " 14  csef_severity  322382 non-null  object \n",
      " 15  location       322382 non-null  object \n",
      "dtypes: float64(3), int64(1), object(12)\n",
      "memory usage: 39.4+ MB\n"
     ]
    }
   ],
   "source": [
    "combined_df.info()"
   ]
  },
  {
   "cell_type": "code",
   "execution_count": 9,
   "metadata": {},
   "outputs": [
    {
     "name": "stdout",
     "output_type": "stream",
     "text": [
      "Datasets combined successfully!\n"
     ]
    }
   ],
   "source": [
    "# Save the combined dataset\n",
    "combined_df.to_csv('Road_Crash_Data.csv', index=False)\n",
    "\n",
    "print(\"Datasets combined successfully!\")"
   ]
  }
 ],
 "metadata": {
  "kernelspec": {
   "display_name": "Python 3",
   "language": "python",
   "name": "python3"
  },
  "language_info": {
   "codemirror_mode": {
    "name": "ipython",
    "version": 3
   },
   "file_extension": ".py",
   "mimetype": "text/x-python",
   "name": "python",
   "nbconvert_exporter": "python",
   "pygments_lexer": "ipython3",
   "version": "3.12.2"
  }
 },
 "nbformat": 4,
 "nbformat_minor": 2
}
