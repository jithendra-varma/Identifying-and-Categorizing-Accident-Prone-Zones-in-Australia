{
 "cells": [
  {
   "cell_type": "code",
   "execution_count": 1,
   "metadata": {},
   "outputs": [],
   "source": [
    "import pandas as pd\n",
    "from datetime import datetime"
   ]
  },
  {
   "cell_type": "code",
   "execution_count": 2,
   "metadata": {},
   "outputs": [
    {
     "name": "stderr",
     "output_type": "stream",
     "text": [
      "/var/folders/p3/r3tlf0sj4rsfpv7j1hvsz4vr0000gn/T/ipykernel_58880/1828487975.py:1: DtypeWarning: Columns (37) have mixed types. Specify dtype option on import or set low_memory=False.\n",
      "  df = pd.read_csv('e88943c0-5968-4972-a15f-38e120d72ec0.csv')\n"
     ]
    }
   ],
   "source": [
    "# Data is loaded from (https://www.data.qld.gov.au/dataset/crash-data-from-queensland-roads)\n",
    "df = pd.read_csv('e88943c0-5968-4972-a15f-38e120d72ec0.csv')"
   ]
  },
  {
   "cell_type": "code",
   "execution_count": 3,
   "metadata": {},
   "outputs": [
    {
     "name": "stdout",
     "output_type": "stream",
     "text": [
      "<class 'pandas.core.frame.DataFrame'>\n",
      "Index: 51518 entries, 80694 to 386332\n",
      "Data columns (total 53 columns):\n",
      " #   Column                           Non-Null Count  Dtype  \n",
      "---  ------                           --------------  -----  \n",
      " 0   _id                              51518 non-null  int64  \n",
      " 1   Crash_Ref_Number                 51518 non-null  int64  \n",
      " 2   Crash_Severity                   51518 non-null  object \n",
      " 3   Crash_Nature                     51518 non-null  object \n",
      " 4   Crash_Type                       51518 non-null  object \n",
      " 5   Crash_Longitude                  51518 non-null  float64\n",
      " 6   Crash_Latitude                   51518 non-null  float64\n",
      " 7   Crash_Street                     51518 non-null  object \n",
      " 8   Crash_Street_Intersecting        22523 non-null  object \n",
      " 9   State_Road_Name                  23936 non-null  object \n",
      " 10  Loc_Suburb                       51518 non-null  object \n",
      " 11  Loc_Local_Government_Area        51518 non-null  object \n",
      " 12  Loc_Post_Code                    51518 non-null  object \n",
      " 13  Loc_Police_Division              51518 non-null  object \n",
      " 14  Loc_Police_District              51518 non-null  object \n",
      " 15  Loc_Police_Region                51518 non-null  object \n",
      " 16  Loc_Queensland_Transport_Region  51518 non-null  object \n",
      " 17  Loc_Main_Roads_Region            51518 non-null  object \n",
      " 18  Loc_ABS_Statistical_Area_2       51518 non-null  object \n",
      " 19  Loc_ABS_Statistical_Area_3       51518 non-null  object \n",
      " 20  Loc_ABS_Statistical_Area_4       51518 non-null  object \n",
      " 21  Loc_ABS_Remoteness               51518 non-null  object \n",
      " 22  Loc_State_Electorate             51518 non-null  object \n",
      " 23  Loc_Federal_Electorate           51518 non-null  object \n",
      " 24  Crash_Controlling_Authority      51518 non-null  object \n",
      " 25  Crash_Roadway_Feature            51518 non-null  object \n",
      " 26  Crash_Traffic_Control            51518 non-null  object \n",
      " 27  Crash_Speed_Limit                51518 non-null  object \n",
      " 28  Crash_Road_Surface_Condition     51518 non-null  object \n",
      " 29  Crash_Atmospheric_Condition      51518 non-null  object \n",
      " 30  Crash_Lighting_Condition         51518 non-null  object \n",
      " 31  Crash_Road_Horiz_Align           51518 non-null  object \n",
      " 32  Crash_Road_Vert_Align            51517 non-null  object \n",
      " 33  Crash_DCA_Code                   51518 non-null  object \n",
      " 34  Crash_DCA_Description            51518 non-null  object \n",
      " 35  Crash_DCA_Group_Description      51518 non-null  object \n",
      " 36  DCA_Key_Approach_Dir             50016 non-null  object \n",
      " 37  Count_Casualty_Fatality          51518 non-null  int64  \n",
      " 38  Count_Casualty_Hospitalised      51518 non-null  int64  \n",
      " 39  Count_Casualty_MedicallyTreated  51518 non-null  int64  \n",
      " 40  Count_Casualty_MinorInjury       51518 non-null  int64  \n",
      " 41  Count_Casualty_Total             51518 non-null  int64  \n",
      " 42  Count_Unit_Car                   51518 non-null  int64  \n",
      " 43  Count_Unit_Motorcycle_Moped      51518 non-null  int64  \n",
      " 44  Count_Unit_Truck                 51518 non-null  int64  \n",
      " 45  Count_Unit_Bus                   51518 non-null  int64  \n",
      " 46  Count_Unit_Bicycle               51518 non-null  int64  \n",
      " 47  Count_Unit_Pedestrian            51518 non-null  int64  \n",
      " 48  Count_Unit_Other                 51518 non-null  int64  \n",
      " 49  year                             51518 non-null  int64  \n",
      " 50  month                            51518 non-null  object \n",
      " 51  day                              51518 non-null  object \n",
      " 52  time                             51518 non-null  object \n",
      "dtypes: float64(2), int64(15), object(36)\n",
      "memory usage: 21.2+ MB\n"
     ]
    }
   ],
   "source": [
    "df = df[df['Crash_Year'].between(2019, 2022)]\n",
    "\n",
    "# Function to convert Crash_Year, Crash_Month, Crash_Day_Of_Week, Crash_Hour to year, month, day, and time\n",
    "def convert_to_datetime(row):\n",
    "    year = row['Crash_Year']\n",
    "    month = row['Crash_Month']\n",
    "    day = row['Crash_Day_Of_Week']\n",
    "    hour = row['Crash_Hour']\n",
    "    \n",
    "    return year, month, day, f\"{hour:02}:00\"\n",
    "\n",
    "# Apply function to each row\n",
    "df['year'], df['month'], df['day'], df['time'] = zip(*df.apply(convert_to_datetime, axis=1))\n",
    "\n",
    "# Drop the original columns if needed\n",
    "df.drop(columns=['Crash_Year', 'Crash_Month', 'Crash_Day_Of_Week', 'Crash_Hour'], inplace=True)\n",
    "\n",
    "# Display the modified DataFrame\n",
    "df.info()"
   ]
  },
  {
   "cell_type": "code",
   "execution_count": 4,
   "metadata": {},
   "outputs": [],
   "source": [
    "df.rename(columns={'Crash_Ref_Number': 'report_id'}, inplace=True)\n",
    "\n",
    "# Add a new column 'state' with all values as 'QLD'\n",
    "df['state'] = 'QLD'\n"
   ]
  },
  {
   "cell_type": "code",
   "execution_count": 5,
   "metadata": {},
   "outputs": [],
   "source": [
    "# Mapping dictionary for transformation\n",
    "remoteness_mapping = {\n",
    "    'Major Cities': 'City',\n",
    "    'Inner Regional': 'Metropolitan',\n",
    "    'Outer Regional': 'Metropolitan',\n",
    "    'Remote': 'Country',\n",
    "    'Very Remote': 'Country',\n",
    "    'unknown': 'Unknown'\n",
    "}\n",
    "\n",
    "# Apply mapping to transform 'Loc_ABS_Remoteness' column\n",
    "df['Loc_ABS_Remoteness'] = df['Loc_ABS_Remoteness'].map(remoteness_mapping)\n",
    "\n",
    "# Drop rows where 'Loc_ABS_Remoteness' is 'Unknown'\n",
    "df = df[df['Loc_ABS_Remoteness'] != 'Unknown']\n",
    "\n",
    "# Generate 'stats_area' column based on transformed values\n",
    "df['stats_area'] = df['Loc_ABS_Remoteness']\n"
   ]
  },
  {
   "cell_type": "code",
   "execution_count": 6,
   "metadata": {},
   "outputs": [],
   "source": [
    "df.rename(columns={'Loc_Suburb': 'lga'}, inplace=True)\n"
   ]
  },
  {
   "cell_type": "code",
   "execution_count": 7,
   "metadata": {},
   "outputs": [],
   "source": [
    "# Rename columns 'Crash_Longitude' and 'Crash_Latitude' to 'longitude' and 'latitude'\n",
    "df.rename(columns={'Crash_Longitude': 'longitude', 'Crash_Latitude': 'latitude'}, inplace=True)"
   ]
  },
  {
   "cell_type": "code",
   "execution_count": 8,
   "metadata": {},
   "outputs": [],
   "source": [
    "# Determine loc_type based on Crash_Street_Intersecting\n",
    "df['loc_type'] = df['Crash_Street_Intersecting'].apply(lambda x: 'Intersection' if pd.notna(x) else 'Midblock')\n",
    "\n",
    "# Combine Crash_Street and Crash_Street_Intersecting into location column\n",
    "df['location'] = df.apply(lambda row: f\"{row['Crash_Street']} & {row['Crash_Street_Intersecting']}\" if row['loc_type'] == 'Intersection' else row['Crash_Street'], axis=1)\n",
    "\n",
    "# Drop the original columns if needed\n",
    "df.drop(columns=['Crash_Street', 'Crash_Street_Intersecting'], inplace=True)\n"
   ]
  },
  {
   "cell_type": "code",
   "execution_count": 9,
   "metadata": {},
   "outputs": [],
   "source": [
    "lighting_mapping = {\n",
    "    'Daylight': 'Day',\n",
    "    'Dawn/Dusk': 'Day',\n",
    "    'Darkness - Not lighted': 'Night',\n",
    "    'Darkness - Lighted': 'Night',\n",
    "    'Unknown': None  # Mapping 'Unknown' to None to remove these records\n",
    "}\n",
    "\n",
    "# Apply mapping to create light_cond column\n",
    "df['light_cond'] = df['Crash_Lighting_Condition'].map(lighting_mapping)\n",
    "\n",
    "# Drop rows where light_cond is None (i.e., remove 'Unknown' records)\n",
    "df = df.dropna(subset=['light_cond'])\n",
    "\n",
    "# Drop the original Crash_Lighting_Condition column if needed\n",
    "df.drop(columns=['Crash_Lighting_Condition'], inplace=True)"
   ]
  },
  {
   "cell_type": "code",
   "execution_count": 10,
   "metadata": {},
   "outputs": [
    {
     "name": "stdout",
     "output_type": "stream",
     "text": [
      "<class 'pandas.core.frame.DataFrame'>\n",
      "Index: 51518 entries, 80694 to 386332\n",
      "Data columns (total 55 columns):\n",
      " #   Column                           Non-Null Count  Dtype  \n",
      "---  ------                           --------------  -----  \n",
      " 0   _id                              51518 non-null  int64  \n",
      " 1   report_id                        51518 non-null  int64  \n",
      " 2   Crash_Severity                   51518 non-null  object \n",
      " 3   Crash_Nature                     51518 non-null  object \n",
      " 4   Crash_Type                       51518 non-null  object \n",
      " 5   longitude                        51518 non-null  float64\n",
      " 6   latitude                         51518 non-null  float64\n",
      " 7   State_Road_Name                  23936 non-null  object \n",
      " 8   lga                              51518 non-null  object \n",
      " 9   Loc_Local_Government_Area        51518 non-null  object \n",
      " 10  Loc_Post_Code                    51518 non-null  object \n",
      " 11  Loc_Police_Division              51518 non-null  object \n",
      " 12  Loc_Police_District              51518 non-null  object \n",
      " 13  Loc_Police_Region                51518 non-null  object \n",
      " 14  Loc_Queensland_Transport_Region  51518 non-null  object \n",
      " 15  Loc_Main_Roads_Region            51518 non-null  object \n",
      " 16  Loc_ABS_Statistical_Area_2       51518 non-null  object \n",
      " 17  Loc_ABS_Statistical_Area_3       51518 non-null  object \n",
      " 18  Loc_ABS_Statistical_Area_4       51518 non-null  object \n",
      " 19  Loc_ABS_Remoteness               51518 non-null  object \n",
      " 20  Loc_State_Electorate             51518 non-null  object \n",
      " 21  Loc_Federal_Electorate           51518 non-null  object \n",
      " 22  Crash_Controlling_Authority      51518 non-null  object \n",
      " 23  Crash_Roadway_Feature            51518 non-null  object \n",
      " 24  Crash_Traffic_Control            51518 non-null  object \n",
      " 25  Crash_Speed_Limit                51518 non-null  object \n",
      " 26  Crash_Road_Surface_Condition     51518 non-null  object \n",
      " 27  Crash_Atmospheric_Condition      51518 non-null  object \n",
      " 28  Crash_Road_Horiz_Align           51518 non-null  object \n",
      " 29  Crash_Road_Vert_Align            51517 non-null  object \n",
      " 30  Crash_DCA_Code                   51518 non-null  object \n",
      " 31  Crash_DCA_Description            51518 non-null  object \n",
      " 32  Crash_DCA_Group_Description      51518 non-null  object \n",
      " 33  DCA_Key_Approach_Dir             50016 non-null  object \n",
      " 34  Count_Casualty_Fatality          51518 non-null  int64  \n",
      " 35  Count_Casualty_Hospitalised      51518 non-null  int64  \n",
      " 36  Count_Casualty_MedicallyTreated  51518 non-null  int64  \n",
      " 37  Count_Casualty_MinorInjury       51518 non-null  int64  \n",
      " 38  Count_Casualty_Total             51518 non-null  int64  \n",
      " 39  Count_Unit_Car                   51518 non-null  int64  \n",
      " 40  Count_Unit_Motorcycle_Moped      51518 non-null  int64  \n",
      " 41  Count_Unit_Truck                 51518 non-null  int64  \n",
      " 42  Count_Unit_Bus                   51518 non-null  int64  \n",
      " 43  Count_Unit_Bicycle               51518 non-null  int64  \n",
      " 44  Count_Unit_Pedestrian            51518 non-null  int64  \n",
      " 45  Count_Unit_Other                 51518 non-null  int64  \n",
      " 46  year                             51518 non-null  int64  \n",
      " 47  month                            51518 non-null  object \n",
      " 48  day                              51518 non-null  object \n",
      " 49  time                             51518 non-null  object \n",
      " 50  state                            51518 non-null  object \n",
      " 51  stats_area                       51518 non-null  object \n",
      " 52  loc_type                         51518 non-null  object \n",
      " 53  location                         51518 non-null  object \n",
      " 54  light_cond                       51518 non-null  object \n",
      "dtypes: float64(2), int64(15), object(38)\n",
      "memory usage: 22.0+ MB\n"
     ]
    }
   ],
   "source": [
    "df.info()"
   ]
  },
  {
   "cell_type": "code",
   "execution_count": 11,
   "metadata": {},
   "outputs": [],
   "source": [
    "# Mapping dictionary for atmospheric conditions\n",
    "atmospheric_mapping = {\n",
    "    'Clear': 'Not Raining',\n",
    "    'Fog': 'Not Raining',\n",
    "    'Smoke/Dust': 'Not Raining',\n",
    "    'Raining': 'Raining',\n",
    "    'Unknown': None  # Mapping 'Unknown' to None to remove these records\n",
    "}\n",
    "\n",
    "# Apply mapping to create new column\n",
    "df['weather_cond'] = df['Crash_Atmospheric_Condition'].map(atmospheric_mapping)\n",
    "\n",
    "# Drop rows where atmospheric_cond is None (i.e., remove 'Unknown' records)\n",
    "df = df.dropna(subset=['weather_cond'])\n",
    "\n",
    "# Drop the original Crash_Atmospheric_Condition column if needed\n",
    "df.drop(columns=['Crash_Atmospheric_Condition'], inplace=True)\n"
   ]
  },
  {
   "cell_type": "code",
   "execution_count": 12,
   "metadata": {},
   "outputs": [],
   "source": [
    "# Mapping dictionary for speed limits\n",
    "speed_limit_mapping = {\n",
    "    '0 - 50 km/h': 50,\n",
    "    '60 km/h': 60,\n",
    "    '70 km/h': 70,\n",
    "    '80 - 90 km/h': 90,\n",
    "    '100 - 110 km/h': 110,\n",
    "    '': None  # Mapping blank values to None to remove these records\n",
    "}\n",
    "\n",
    "# Apply mapping to create speed_limit column\n",
    "df['speed_limit'] = df['Crash_Speed_Limit'].map(speed_limit_mapping)\n",
    "\n",
    "# Drop rows where speed_limit is None (i.e., remove blank entries)\n",
    "df = df.dropna(subset=['speed_limit'])\n",
    "\n",
    "# Drop the original Crash_Speed_Limit column if needed\n",
    "df.drop(columns=['Crash_Speed_Limit'], inplace=True)"
   ]
  },
  {
   "cell_type": "code",
   "execution_count": 13,
   "metadata": {},
   "outputs": [],
   "source": [
    "# Mapping dictionary for severity levels\n",
    "severity_mapping = {\n",
    "    'Fatal': '4: Fatal',\n",
    "    'Hospitalisation': '3: SI',\n",
    "    'Medical treatment': '2: MI',\n",
    "    'Minor injury': '1: PDO',\n",
    "    'Unknown': None  # Mapping 'Unknown' to None to handle undefined cases\n",
    "}\n",
    "\n",
    "df['csef_severity'] = df['Crash_Severity'].map(severity_mapping)\n",
    "\n",
    "# Drop the original Crash_Severity column if needed\n",
    "df.drop(columns=['Crash_Severity'], inplace=True)\n"
   ]
  },
  {
   "cell_type": "code",
   "execution_count": 14,
   "metadata": {},
   "outputs": [],
   "source": [
    "# List of standardized columns to keep\n",
    "columns_to_keep = [\n",
    "    'report_id',\n",
    "    'year',\n",
    "    'month',\n",
    "    'day',\n",
    "    'time',\n",
    "    'state',\n",
    "    'stats_area',\n",
    "    'lga',\n",
    "    'latitude',\n",
    "    'longitude',\n",
    "    'loc_type',\n",
    "    'location',\n",
    "    'light_cond',\n",
    "    'weather_cond',\n",
    "    'speed_limit',\n",
    "    'csef_severity'\n",
    "]\n",
    "\n",
    "# Select only the specified columns\n",
    "df = df[columns_to_keep]"
   ]
  },
  {
   "cell_type": "code",
   "execution_count": 15,
   "metadata": {},
   "outputs": [],
   "source": [
    "df.to_csv('Final_QLD.csv', index=False)"
   ]
  }
 ],
 "metadata": {
  "kernelspec": {
   "display_name": "Python 3",
   "language": "python",
   "name": "python3"
  },
  "language_info": {
   "codemirror_mode": {
    "name": "ipython",
    "version": 3
   },
   "file_extension": ".py",
   "mimetype": "text/x-python",
   "name": "python",
   "nbconvert_exporter": "python",
   "pygments_lexer": "ipython3",
   "version": "3.12.2"
  }
 },
 "nbformat": 4,
 "nbformat_minor": 2
}
